{
  "nbformat": 4,
  "nbformat_minor": 0,
  "metadata": {
    "colab": {
      "provenance": []
    },
    "kernelspec": {
      "name": "python3",
      "display_name": "Python 3"
    },
    "language_info": {
      "name": "python"
    }
  },
  "cells": [
    {
      "cell_type": "markdown",
      "source": [
        "##1- What are data structures, and why are they important?\n",
        "Data structures are specialized formats for organizing, storing, and accessing collections of data. They provide efficient ways to manage information based on its characteristics and intended use.\n",
        "Think of them as containers that hold your data and determine how you can interact with it. Different containers are better suited for different types of items.\n",
        "####**Why are they important?**\n",
        "\n",
        "Choosing the right data structure significantly impacts the efficiency and performance of your program.\n",
        "Well-chosen data structures can:\n",
        "Simplify data manipulation (adding, removing, modifying elements)\n",
        "Optimize searching and sorting operations\n",
        "Conserve memory usage"
      ],
      "metadata": {
        "id": "IRW-hllw9Aw7"
      }
    },
    {
      "cell_type": "markdown",
      "source": [
        "##2- Explain the difference between mutable and immutable data types with examples.\n",
        "The difference between mutable and immutable data types lies in whether the data stored in an object can be changed after the object is created.\n",
        "\n",
        "####**Mutable Data Types Definition**:\n",
        " Objects that can be modified after creation.\n",
        "Behavior: Changes to the object do not create a new object; instead, the existing object is updated.\n",
        "Examples in Python:\n",
        "* Lists\n",
        "* Dictionaries\n",
        "\n",
        "####**Immutable Data Types Definition:**\n",
        "Objects that cannot be modified after creation.\n",
        "Behavior: Any attempt to change the object creates a new object.\n",
        "Examples in Python:\n",
        "* Strings\n",
        "* Tuples\n"
      ],
      "metadata": {
        "id": "9pHlvLZS9A1T"
      }
    },
    {
      "cell_type": "markdown",
      "source": [
        "##3- What are the main differences between lists and tuples in Python?\n",
        "The key difference between tuples and lists is that while tuples are immutable objects, lists are mutable. This means tuples cannot be changed while lists can be modified. Tuples are also more memory efficient than the lists.\n",
        "###When to Use Lists vs. Tuples\n",
        "Use Lists:\n",
        "When the data needs to be modified (e.g., adding/removing elements).\n",
        "For collections that are expected to change in size.\n",
        "\n",
        "Use Tuples:\n",
        "For fixed collections of items (e.g., coordinates, configuration settings).\n",
        "When you need immutable and hashable data types for dictionary keys or set elements.\n",
        "\n",
        "By understanding these differences, you can choose the most appropriate data type for your specific use case!"
      ],
      "metadata": {
        "id": "7RcqQ1SB9A5U"
      }
    },
    {
      "cell_type": "markdown",
      "source": [
        "##4- Describe how dictionaries store data.\n",
        "Dictionaries in Python store data as key-value pairs using a hash table under the hood. This design allows for efficient data retrieval, insertion, and deletion.\n",
        "\n",
        "How Dictionaries Work Internally\n",
        "Key-Value Pair Structure:\n",
        "\n",
        "Each entry in a dictionary consists of a key and its corresponding value.\n",
        "Keys must be unique and hashable (e.g., integers, strings, tuples with immutable elements).\n",
        "Values can be any data type and do not need to be unique.\n",
        "Example:\n",
        "\n",
        "python\n",
        "Copy\n",
        "Edit\n",
        "my_dict = {\"name\": \"Alice\", \"age\": 30}\n",
        "Hash Table:\n",
        "\n",
        "Dictionaries use a hash table, a data structure that maps keys to values using a hash function.\n",
        "\n",
        "The hash function computes a unique hash value (integer) for each key, which determines where the key-value pair is stored in memory.\n",
        "Indexing with Hashes:\n",
        "\n",
        "The hash value of a key determines its bucket (a slot in the hash table) where the key-value pair is stored.\n",
        "When retrieving a value, Python recalculates the hash of the key and checks the corresponding bucket.\n",
        "\n",
        "Collision Handling:\n",
        "Hash collisions occur when two keys generate the same hash value.\n",
        "Python uses open addressing or similar techniques to resolve collisions by storing colliding keys in a linked structure or probing for a new bucket.\n",
        "Key Properties of Dictionary Storage\n",
        "\n",
        "Order of Elements:\n",
        "As of Python 3.7+, dictionaries maintain the insertion order of key-value pairs.\n",
        "\n",
        "Dynamic Resizing:\n",
        "Dictionaries dynamically resize when the load factor (ratio of used buckets to total buckets) exceeds a threshold, ensuring efficiency.\n",
        "\n",
        "Hashability of Keys:\n",
        "Keys must have a consistent hash value throughout their lifetime.\n",
        "Mutable types like lists and dictionaries cannot be used as keys, while immutable types like strings, integers, and tuples are valid.\n"
      ],
      "metadata": {
        "id": "DSydhYW59A93"
      }
    },
    {
      "cell_type": "markdown",
      "source": [
        "##5- Why might you use a set instead of a list in Python?\n",
        "You might choose a set over a list in Python when you need unique elements and fast membership testing. Here are key reasons and scenarios where sets are preferable:\n",
        "Reasons to Use a Set Instead of a List\n",
        "Uniqueness:\n",
        "\n",
        "Sets automatically remove duplicate elements.\n",
        "Use a set when you need a collection of unique items.\n",
        "Example:\n",
        "\n",
        "my_list = [1, 2, 2, 3, 4, 4]\n",
        "\n",
        "my_set = set(my_list)\n",
        "\n",
        "print(my_set)  # Output: {1, 2, 3, 4}\n",
        "\n",
        "Set Operations:\n",
        "Sets support mathematical set operations like union, intersection, difference, and symmetric difference.\n",
        "These operations are efficient and not available with lists.\n",
        "Example:\n",
        "\n",
        "set1 = {1, 2, 3}\n",
        "\n",
        "set2 = {3, 4, 5}\n",
        "\n",
        "print(set1 & set2)  # Intersection: {3}\n",
        "\n",
        "print(set1 | set2)  # Union: {1, 2, 3, 4, 5}\n",
        "\n",
        "print(set1 - set2)  # Difference: {1, 2}\n",
        "\n",
        "Immutability Options:\n",
        "Python has frozensets, which are immutable versions of sets and can be used as dictionary keys or in other hashable contexts.\n",
        "Cleaner Code:\n",
        "\n",
        "If you want to ensure that a collection has no duplicates, using a set is more explicit and concise than checking for duplicates manually with a list.\n"
      ],
      "metadata": {
        "id": "oFO-5BXA9BBs"
      }
    },
    {
      "cell_type": "markdown",
      "source": [
        "##6- What is a string in Python, and how is it different from a list?\n",
        "A string is a sequence of characters between single or double quotes. A list is a sequence of items, where each item could be anything (an integer, a float, a string, etc).\n"
      ],
      "metadata": {
        "id": "3v6_sOFbPTF4"
      }
    },
    {
      "cell_type": "markdown",
      "source": [
        "##7- How do tuples ensure data integrity in Python?\n",
        "Tuples are immutable to ensure that their contents remain constant throughout their lifecycle, guaranteeing data integrity and reliability. This immutability allows tuples to be used as keys in dictionaries and elements in sets, as they can be hashed."
      ],
      "metadata": {
        "id": "bFA2F1DvPS2m"
      }
    },
    {
      "cell_type": "markdown",
      "source": [
        "##8- What is a hash table, and how does it relate to dictionaries in Python?\n",
        "In Python, a hash table is a data structure that's implemented by the dictionary data type (\\(dict\\)). A hash table is a type of associative array that maps keys to values.\n",
        "###How does a hash table work\n",
        "\n",
        "A hash function generates a unique index value for each key.\n",
        "\n",
        "The index value holds the elements that can be searched, inserted, or removed.\n",
        "\n",
        "The data is stored in an array format, with each data value having a unique index value.\n",
        "\n",
        "This storage method provides quick access to data if the index of the data is available\n",
        "\n",
        "###How does a hash table relate to a dictionary in Python\n",
        "\n",
        "The keys in a Python dictionary are hashable, meaning they are generated by a hash function.\n",
        "\n",
        "The elements in a dictionary are not ordered and can be changed.\n",
        "\n",
        "Dictionaries are also known as maps or associative arrays."
      ],
      "metadata": {
        "id": "4v7I9qezPSdw"
      }
    },
    {
      "cell_type": "markdown",
      "source": [
        "##9- Can lists contain different data types in Python?\n",
        "Yes, you're absolutely right! Although it's not very common, a list in Python can indeed contain elements of different data types, such as strings, integers, floats, booleans, and even other lists or objects. This flexibility is one of the reasons why lists are so powerful."
      ],
      "metadata": {
        "id": "KVqkQuylSnv5"
      }
    },
    {
      "cell_type": "markdown",
      "source": [
        "##10- Explain why strings are immutable in Python?\n",
        "In Python, strings are immutable, which means that once a string is created, its content cannot be modified. There are several reasons why strings are immutable in Python:\n",
        "\n",
        "##1. Performance Optimization:\n",
        "Memory Efficiency: Python stores strings in memory as immutable objects, meaning that multiple variables can reference the same string without duplicating memory. For example, if two variables point to the string \"hello\", Python will ensure that both variables refer to the same memory location instead of creating two separate copies of the same string.\n",
        "\n",
        "Hashing: Immutable objects can be safely hashed, meaning they can be used as keys in dictionaries and elements in sets. This is because their value cannot change, ensuring that the hash remains consistent throughout the object's lifetime.\n",
        "##2. Avoiding Unintended Side Effects:\n",
        "Since strings are immutable, operations that \"modify\" a string actually create a new string. This eliminates the risk of inadvertently changing the value of a string that might be referenced elsewhere in the code. Immutable strings avoid the possibility of side effects caused by one part of the program unintentionally changing a string that is being used by other parts.\n",
        "##3. Consistency and Predictability:\n",
        "Immutability ensures that once a string is created, it behaves consistently. When you manipulate strings (e.g., slicing, concatenation), Python always creates a new string, leaving the original string unchanged. This makes it easier to reason about the behavior of the program, as you can be confident that the original string won't be altered unexpectedly.\n",
        "##4. Optimization for Interpreters:\n",
        "String Interning: Python uses a technique called string interning to optimize memory usage. When a string is created, Python may store only one copy of the string in memory for reuse (this is particularly true for strings that are short or frequently used). This would be more difficult to manage with mutable strings, as modifying them could interfere with interning and lead to inconsistencies.\n",
        "##5.Compatibility with Functional Programming:\n",
        "In functional programming, immutability is a core concept. Immutability helps avoid issues like \"state changes,\" which can lead to unpredictable behavior in programs. By making strings immutable, Python aligns with this concept, ensuring that string values cannot be changed once they are created."
      ],
      "metadata": {
        "id": "qliU_XFQS-GE"
      }
    },
    {
      "cell_type": "markdown",
      "source": [
        "#**Practical Questions**"
      ],
      "metadata": {
        "id": "hRfeSIlp9BFp"
      }
    },
    {
      "cell_type": "markdown",
      "source": [
        "##1- Write a code to create a string with your name and print it."
      ],
      "metadata": {
        "id": "q0lIo1y79BJk"
      }
    },
    {
      "cell_type": "code",
      "source": [
        "# Create a string with your name\n",
        "name = \"RAGHAV\"\n",
        "print(name)\n"
      ],
      "metadata": {
        "colab": {
          "base_uri": "https://localhost:8080/"
        },
        "id": "mWKssPdlG8Nj",
        "outputId": "8b64f3cd-f02f-417a-f0d5-0155cc468dd1"
      },
      "execution_count": 2,
      "outputs": [
        {
          "output_type": "stream",
          "name": "stdout",
          "text": [
            "RAGHAV\n"
          ]
        }
      ]
    },
    {
      "cell_type": "markdown",
      "source": [
        "##2- Write a code to find the length of the string \"Hello World\"?"
      ],
      "metadata": {
        "id": "hMfRm5Mg9BOA"
      }
    },
    {
      "cell_type": "code",
      "source": [
        "\n",
        "my_string = \"Hello World\"\n",
        "string_length = len(my_string)\n",
        "print(\"The length of the string is:\", string_length)\n"
      ],
      "metadata": {
        "colab": {
          "base_uri": "https://localhost:8080/"
        },
        "id": "e5DvnaKSHakn",
        "outputId": "d1566740-55f2-4b12-86bf-ad45c4d05561"
      },
      "execution_count": 3,
      "outputs": [
        {
          "output_type": "stream",
          "name": "stdout",
          "text": [
            "The length of the string is: 11\n"
          ]
        }
      ]
    },
    {
      "cell_type": "markdown",
      "source": [
        "##3- Write a code to slice the first 3 characters from the string \"Python Programming\"?"
      ],
      "metadata": {
        "id": "ll5gDkLv9BSV"
      }
    },
    {
      "cell_type": "code",
      "source": [
        "\n",
        "my_string = \"Python Programming\"\n",
        "sliced_string = my_string[:3]\n",
        "print(\"The first 3 characters are:\", sliced_string)\n"
      ],
      "metadata": {
        "colab": {
          "base_uri": "https://localhost:8080/"
        },
        "id": "Q1-rIXYiH9t3",
        "outputId": "99c44d90-12e2-49cd-bd0e-4d5ac9240fc7"
      },
      "execution_count": 4,
      "outputs": [
        {
          "output_type": "stream",
          "name": "stdout",
          "text": [
            "The first 3 characters are: Pyt\n"
          ]
        }
      ]
    },
    {
      "cell_type": "markdown",
      "source": [
        "##4- Write a code to convert the string \"hello\" to uppercase."
      ],
      "metadata": {
        "id": "Rar2aqPP9BWu"
      }
    },
    {
      "cell_type": "code",
      "source": [
        "\n",
        "my_string = \"hello\"\n",
        "uppercase_string = my_string.upper()\n",
        "print(\"Uppercase string:\", uppercase_string)"
      ],
      "metadata": {
        "colab": {
          "base_uri": "https://localhost:8080/"
        },
        "id": "R1LMiXP1IS-M",
        "outputId": "64498732-ef73-4a58-92d0-ef028fc0d6e5"
      },
      "execution_count": 5,
      "outputs": [
        {
          "output_type": "stream",
          "name": "stdout",
          "text": [
            "Uppercase string: HELLO\n"
          ]
        }
      ]
    },
    {
      "cell_type": "markdown",
      "source": [
        "##5- Write a code to replace the word \"apple\" with \"orange\" in the string \"I like apple\"."
      ],
      "metadata": {
        "id": "VAjg68hCInXR"
      }
    },
    {
      "cell_type": "code",
      "source": [
        "\n",
        "my_string = \"I like apple\"\n",
        "new_string = my_string.replace(\"apple\", \"orange\")\n",
        "print(\"Updated string:\", new_string)\n"
      ],
      "metadata": {
        "colab": {
          "base_uri": "https://localhost:8080/"
        },
        "id": "n44YdeeNIhZd",
        "outputId": "c6f5a811-87f4-4037-b541-a3b91e3df292"
      },
      "execution_count": 6,
      "outputs": [
        {
          "output_type": "stream",
          "name": "stdout",
          "text": [
            "Updated string: I like orange\n"
          ]
        }
      ]
    },
    {
      "cell_type": "markdown",
      "source": [
        "##6- Write a code to create a list with numbers 1 to 5 and print it."
      ],
      "metadata": {
        "id": "JWnjbqvYI9t_"
      }
    },
    {
      "cell_type": "code",
      "source": [
        "\n",
        "my_list = [1, 2, 3, 4, 5]\n",
        "print(\"The list is:\", my_list)\n"
      ],
      "metadata": {
        "colab": {
          "base_uri": "https://localhost:8080/"
        },
        "id": "3HwMdSVyI5ut",
        "outputId": "ae7987bb-c70d-4fe5-cad0-fb10dec83cc9"
      },
      "execution_count": 7,
      "outputs": [
        {
          "output_type": "stream",
          "name": "stdout",
          "text": [
            "The list is: [1, 2, 3, 4, 5]\n"
          ]
        }
      ]
    },
    {
      "cell_type": "markdown",
      "source": [
        "##7- Write a code to append the number 10 to the list [1, 2, 3, 4]."
      ],
      "metadata": {
        "id": "J_R5xt6OJW0J"
      }
    },
    {
      "cell_type": "code",
      "source": [
        "\n",
        "my_list = [1, 2, 3, 4]\n",
        "my_list.append(10)\n",
        "print(\"Updated list:\", my_list)\n"
      ],
      "metadata": {
        "colab": {
          "base_uri": "https://localhost:8080/"
        },
        "id": "ImdOW5uEJWib",
        "outputId": "b77ee40d-8950-4cd3-eeb8-bc1e2e98a3b1"
      },
      "execution_count": 8,
      "outputs": [
        {
          "output_type": "stream",
          "name": "stdout",
          "text": [
            "Updated list: [1, 2, 3, 4, 10]\n"
          ]
        }
      ]
    },
    {
      "cell_type": "markdown",
      "source": [
        "##8- Write a code to remove the number 3 from the list [1, 2, 3, 4, 5]."
      ],
      "metadata": {
        "id": "ZlRbFf1wJrta"
      }
    },
    {
      "cell_type": "code",
      "source": [
        "\n",
        "my_list = [1, 2, 3, 4, 5]\n",
        "my_list.remove(3)\n",
        "print(\"Updated list:\", my_list)\n"
      ],
      "metadata": {
        "colab": {
          "base_uri": "https://localhost:8080/"
        },
        "id": "_BcTam5FJj1d",
        "outputId": "be2c59e5-6585-4407-b6d3-aba3f7ee4876"
      },
      "execution_count": 9,
      "outputs": [
        {
          "output_type": "stream",
          "name": "stdout",
          "text": [
            "Updated list: [1, 2, 4, 5]\n"
          ]
        }
      ]
    },
    {
      "cell_type": "markdown",
      "source": [
        "##9- Write a code to access the second element in the list ['a', 'b', 'c', 'd']."
      ],
      "metadata": {
        "id": "JglGSSOLKIfk"
      }
    },
    {
      "cell_type": "code",
      "source": [
        "\n",
        "my_list = ['a', 'b', 'c', 'd']\n",
        "second_element = my_list[1]\n",
        "print(\"The second element is:\", second_element)\n"
      ],
      "metadata": {
        "colab": {
          "base_uri": "https://localhost:8080/"
        },
        "id": "LwkT67GEJ_Et",
        "outputId": "9270d79d-46b4-418b-d44d-cb45f41eec29"
      },
      "execution_count": 10,
      "outputs": [
        {
          "output_type": "stream",
          "name": "stdout",
          "text": [
            "The second element is: b\n"
          ]
        }
      ]
    },
    {
      "cell_type": "markdown",
      "source": [
        "##10- Write a code to reverse the list [10, 20, 30, 40, 50]."
      ],
      "metadata": {
        "id": "x23L-6P1KdjS"
      }
    },
    {
      "cell_type": "code",
      "source": [
        "\n",
        "my_list = [10, 20, 30, 40, 50]\n",
        "my_list.reverse()\n",
        "print(\"Reversed list:\", my_list)\n"
      ],
      "metadata": {
        "colab": {
          "base_uri": "https://localhost:8080/"
        },
        "id": "n-kuC3mJKZkN",
        "outputId": "100cba0a-e509-4ab6-c7d9-dbdba4f85ef0"
      },
      "execution_count": 11,
      "outputs": [
        {
          "output_type": "stream",
          "name": "stdout",
          "text": [
            "Reversed list: [50, 40, 30, 20, 10]\n"
          ]
        }
      ]
    },
    {
      "cell_type": "markdown",
      "source": [
        "##11- Write a code to create a tuple with the elements 10, 20, 30 and print it."
      ],
      "metadata": {
        "id": "pzNFVvGyK8tO"
      }
    },
    {
      "cell_type": "code",
      "source": [
        "\n",
        "my_tuple = (10, 20, 30)\n",
        "print(\"The tuple is:\", my_tuple)\n"
      ],
      "metadata": {
        "colab": {
          "base_uri": "https://localhost:8080/"
        },
        "id": "CdeY85PqK_UN",
        "outputId": "c7096d60-5523-4dc3-881c-67573a622d27"
      },
      "execution_count": 12,
      "outputs": [
        {
          "output_type": "stream",
          "name": "stdout",
          "text": [
            "The tuple is: (10, 20, 30)\n"
          ]
        }
      ]
    },
    {
      "cell_type": "markdown",
      "source": [
        "##12- Write a code to access the first element of the tuple ('apple', 'banana', 'cherry')."
      ],
      "metadata": {
        "id": "824fnbM_LNn_"
      }
    },
    {
      "cell_type": "code",
      "source": [
        "\n",
        "my_tuple = ('apple', 'banana', 'cherry')\n",
        "first_element = my_tuple[0]\n",
        "print(\"The first element is:\", first_element)\n"
      ],
      "metadata": {
        "colab": {
          "base_uri": "https://localhost:8080/"
        },
        "id": "1zjwmxwLLVqN",
        "outputId": "e77353a4-52da-428d-8e1b-39ffa274e610"
      },
      "execution_count": 13,
      "outputs": [
        {
          "output_type": "stream",
          "name": "stdout",
          "text": [
            "The first element is: apple\n"
          ]
        }
      ]
    },
    {
      "cell_type": "markdown",
      "source": [
        "##13- Write a code to count how many times the number 2 appears in the tuple (1, 2, 3, 2, 4, 2)."
      ],
      "metadata": {
        "id": "aJbTgDnILgBr"
      }
    },
    {
      "cell_type": "code",
      "source": [
        "\n",
        "my_tuple = (1, 2, 3, 2, 4, 2)\n",
        "count_2 = my_tuple.count(2)\n",
        "print(\"The number 2 appears\", count_2, \"times.\")\n"
      ],
      "metadata": {
        "colab": {
          "base_uri": "https://localhost:8080/"
        },
        "id": "psB7yKrcLclO",
        "outputId": "59a02239-fa79-4f0f-cd1e-407ca998bd00"
      },
      "execution_count": 14,
      "outputs": [
        {
          "output_type": "stream",
          "name": "stdout",
          "text": [
            "The number 2 appears 3 times.\n"
          ]
        }
      ]
    },
    {
      "cell_type": "markdown",
      "source": [
        "##14- Write a code to find the index of the element \"cat\" in the tuple ('dog', 'cat', 'rabbit')."
      ],
      "metadata": {
        "id": "dfz4spI2L0oR"
      }
    },
    {
      "cell_type": "code",
      "source": [
        "\n",
        "my_tuple = ('dog', 'cat', 'rabbit')\n",
        "index_of_cat = my_tuple.index('cat')\n",
        "print(\"The index of 'cat' is:\", index_of_cat)\n"
      ],
      "metadata": {
        "colab": {
          "base_uri": "https://localhost:8080/"
        },
        "id": "PfOtm2zKLtDO",
        "outputId": "cf448df6-055c-4053-b991-580c10e7f4e0"
      },
      "execution_count": 15,
      "outputs": [
        {
          "output_type": "stream",
          "name": "stdout",
          "text": [
            "The index of 'cat' is: 1\n"
          ]
        }
      ]
    },
    {
      "cell_type": "markdown",
      "source": [
        "##15- Write a code to check if the element \"banana\" is in the tuple ('apple', 'orange', 'banana')."
      ],
      "metadata": {
        "id": "zn0QhzU0MNGa"
      }
    },
    {
      "cell_type": "code",
      "source": [
        "\n",
        "my_tuple = ('apple', 'orange', 'banana')\n",
        "is_banana_in_tuple = \"banana\" in my_tuple\n",
        "print(\"Is 'banana' in the tuple?\", is_banana_in_tuple)\n"
      ],
      "metadata": {
        "colab": {
          "base_uri": "https://localhost:8080/"
        },
        "id": "oloEc1FGMAqO",
        "outputId": "3ec9ac3d-7dbe-421c-9802-d62f451b1dad"
      },
      "execution_count": 16,
      "outputs": [
        {
          "output_type": "stream",
          "name": "stdout",
          "text": [
            "Is 'banana' in the tuple? True\n"
          ]
        }
      ]
    },
    {
      "cell_type": "markdown",
      "source": [
        "##16- Write a code to create a set with the elements 1, 2, 3, 4, 5 and print it."
      ],
      "metadata": {
        "id": "bk1Uv4I-MkI-"
      }
    },
    {
      "cell_type": "code",
      "source": [
        "\n",
        "my_set = {1, 2, 3, 4, 5}\n",
        "print(\"The set is:\", my_set)\n"
      ],
      "metadata": {
        "colab": {
          "base_uri": "https://localhost:8080/"
        },
        "id": "htM4tADFMb8O",
        "outputId": "acf4fc9e-8450-4046-825e-c840692fea88"
      },
      "execution_count": 17,
      "outputs": [
        {
          "output_type": "stream",
          "name": "stdout",
          "text": [
            "The set is: {1, 2, 3, 4, 5}\n"
          ]
        }
      ]
    },
    {
      "cell_type": "markdown",
      "source": [
        "##17- Write a code to add the element 6 to the set {1, 2, 3, 4}."
      ],
      "metadata": {
        "id": "gPG_KyepM0MU"
      }
    },
    {
      "cell_type": "code",
      "source": [
        "\n",
        "my_set = {1, 2, 3, 4}\n",
        "my_set.add(6)\n",
        "print(\"Updated set:\", my_set)\n"
      ],
      "metadata": {
        "colab": {
          "base_uri": "https://localhost:8080/"
        },
        "id": "fSAxIyEDMvVe",
        "outputId": "267a9ea1-d78e-4cf9-d381-270fc68bd2d1"
      },
      "execution_count": 18,
      "outputs": [
        {
          "output_type": "stream",
          "name": "stdout",
          "text": [
            "Updated set: {1, 2, 3, 4, 6}\n"
          ]
        }
      ]
    },
    {
      "cell_type": "markdown",
      "source": [
        "##18- Write a code to create a tuple with the elements 10, 20, 30 and print it."
      ],
      "metadata": {
        "id": "jhHu9ytjNToA"
      }
    },
    {
      "cell_type": "code",
      "source": [
        "\n",
        "my_tuple = (10, 20, 30)\n",
        "print(\"The tuple is:\", my_tuple)\n"
      ],
      "metadata": {
        "colab": {
          "base_uri": "https://localhost:8080/"
        },
        "id": "0Y4S5fU6NSbP",
        "outputId": "3557ad29-942a-43a7-8cd3-5d6bd252ba40"
      },
      "execution_count": 19,
      "outputs": [
        {
          "output_type": "stream",
          "name": "stdout",
          "text": [
            "The tuple is: (10, 20, 30)\n"
          ]
        }
      ]
    },
    {
      "cell_type": "markdown",
      "source": [
        "##19- Write a code to access the first element of the tuple ('apple', 'banana', 'cherry')."
      ],
      "metadata": {
        "id": "hh9Ihf_vNmH2"
      }
    },
    {
      "cell_type": "code",
      "source": [
        "\n",
        "my_tuple = ('apple', 'banana', 'cherry')\n",
        "first_element = my_tuple[0]\n",
        "print(\"The first element is:\", first_element)\n"
      ],
      "metadata": {
        "colab": {
          "base_uri": "https://localhost:8080/"
        },
        "id": "388_Q7-jNf2v",
        "outputId": "05f607ed-8518-44bf-bf88-696a22571e2e"
      },
      "execution_count": 20,
      "outputs": [
        {
          "output_type": "stream",
          "name": "stdout",
          "text": [
            "The first element is: apple\n"
          ]
        }
      ]
    },
    {
      "cell_type": "markdown",
      "source": [
        "##20- Write a code to count how many times the number 2 appears in the tuple (1, 2, 3, 2, 4, 2)."
      ],
      "metadata": {
        "id": "BJ5PL6qKN4JJ"
      }
    },
    {
      "cell_type": "code",
      "source": [
        "\n",
        "my_tuple = (1, 2, 3, 2, 4, 2)\n",
        "count_2 = my_tuple.count(2)\n",
        "print(\"The number 2 appears\", count_2, \"times.\")\n"
      ],
      "metadata": {
        "colab": {
          "base_uri": "https://localhost:8080/"
        },
        "id": "j3BF-xXtN0Hv",
        "outputId": "23fc44b5-bf2e-41f9-c6d9-02cb737f45a2"
      },
      "execution_count": 21,
      "outputs": [
        {
          "output_type": "stream",
          "name": "stdout",
          "text": [
            "The number 2 appears 3 times.\n"
          ]
        }
      ]
    },
    {
      "cell_type": "markdown",
      "source": [
        "##21- Write a code to find the index of the element \"cat\" in the tuple ('dog', 'cat', 'rabbit')."
      ],
      "metadata": {
        "id": "W1JRhq9AOS5f"
      }
    },
    {
      "cell_type": "code",
      "source": [
        "\n",
        "my_tuple = ('dog', 'cat', 'rabbit')\n",
        "index_of_cat = my_tuple.index('cat')\n",
        "print(\"The index of 'cat' is:\", index_of_cat)\n"
      ],
      "metadata": {
        "colab": {
          "base_uri": "https://localhost:8080/"
        },
        "id": "toIgRgqrODje",
        "outputId": "fb2808df-e5d3-4fc9-f7c3-1befc2aea50c"
      },
      "execution_count": 22,
      "outputs": [
        {
          "output_type": "stream",
          "name": "stdout",
          "text": [
            "The index of 'cat' is: 1\n"
          ]
        }
      ]
    },
    {
      "cell_type": "markdown",
      "source": [
        "##22- Write a code to check if the element \"banana\" is in the tuple ('apple', 'orange', 'banana')."
      ],
      "metadata": {
        "id": "p5O8dDRSOk4h"
      }
    },
    {
      "cell_type": "code",
      "source": [
        "\n",
        "my_tuple = ('apple', 'orange', 'banana')\n",
        "is_banana_in_tuple = \"banana\" in my_tuple\n",
        "print(\"Is 'banana' in the tuple?\", is_banana_in_tuple)\n"
      ],
      "metadata": {
        "colab": {
          "base_uri": "https://localhost:8080/"
        },
        "id": "UEI2ReAlOc8P",
        "outputId": "014f8c7c-6e84-4480-cd7d-9808929bb925"
      },
      "execution_count": 23,
      "outputs": [
        {
          "output_type": "stream",
          "name": "stdout",
          "text": [
            "Is 'banana' in the tuple? True\n"
          ]
        }
      ]
    },
    {
      "cell_type": "markdown",
      "source": [
        "##23- Write a code to create a set with the elements 1, 2, 3, 4, 5 and print it."
      ],
      "metadata": {
        "id": "wnJz0jovOzHj"
      }
    },
    {
      "cell_type": "code",
      "source": [
        "\n",
        "my_set = {1, 2, 3, 4, 5}\n",
        "print(\"The set is:\", my_set)\n"
      ],
      "metadata": {
        "colab": {
          "base_uri": "https://localhost:8080/"
        },
        "id": "yYhGyvlvOwNf",
        "outputId": "c2de5f19-f993-44ac-ee0f-22c4a860f810"
      },
      "execution_count": 24,
      "outputs": [
        {
          "output_type": "stream",
          "name": "stdout",
          "text": [
            "The set is: {1, 2, 3, 4, 5}\n"
          ]
        }
      ]
    },
    {
      "cell_type": "markdown",
      "source": [
        "##24- Write a code to add the element 6 to the set {1, 2, 3, 4}."
      ],
      "metadata": {
        "id": "04I2jEQQO_TE"
      }
    },
    {
      "cell_type": "code",
      "source": [
        "\n",
        "my_set = {1, 2, 3, 4}\n",
        "my_set.add(6)\n",
        "print(\"Updated set:\", my_set)\n"
      ],
      "metadata": {
        "colab": {
          "base_uri": "https://localhost:8080/"
        },
        "id": "ivLmRAqcO75-",
        "outputId": "ee49fd80-0373-48b7-def4-0bcfd01042d8"
      },
      "execution_count": 25,
      "outputs": [
        {
          "output_type": "stream",
          "name": "stdout",
          "text": [
            "Updated set: {1, 2, 3, 4, 6}\n"
          ]
        }
      ]
    },
    {
      "cell_type": "code",
      "source": [],
      "metadata": {
        "id": "RvqzkVc1PKUv"
      },
      "execution_count": null,
      "outputs": []
    }
  ]
}